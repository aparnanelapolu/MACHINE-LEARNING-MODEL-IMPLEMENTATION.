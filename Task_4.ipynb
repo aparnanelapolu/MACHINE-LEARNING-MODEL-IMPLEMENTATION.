{
  "nbformat": 4,
  "nbformat_minor": 0,
  "metadata": {
    "colab": {
      "provenance": []
    },
    "kernelspec": {
      "name": "python3",
      "display_name": "Python 3"
    },
    "language_info": {
      "name": "python"
    }
  },
  "cells": [
    {
      "cell_type": "code",
      "execution_count": null,
      "metadata": {
        "colab": {
          "base_uri": "https://localhost:8080/",
          "height": 837
        },
        "id": "0E9MOy1iOZ5t",
        "outputId": "6c965994-fbef-476d-e5b9-d6160b5056f3"
      },
      "outputs": [
        {
          "output_type": "stream",
          "name": "stdout",
          "text": [
            "Requirement already satisfied: requests in /usr/local/lib/python3.11/dist-packages (2.32.3)\n",
            "Requirement already satisfied: charset-normalizer<4,>=2 in /usr/local/lib/python3.11/dist-packages (from requests) (3.4.1)\n",
            "Requirement already satisfied: idna<4,>=2.5 in /usr/local/lib/python3.11/dist-packages (from requests) (3.10)\n",
            "Requirement already satisfied: urllib3<3,>=1.21.1 in /usr/local/lib/python3.11/dist-packages (from requests) (2.3.0)\n",
            "Requirement already satisfied: certifi>=2017.4.17 in /usr/local/lib/python3.11/dist-packages (from requests) (2024.12.14)\n",
            "Accuracy: 97.85%\n",
            "\n",
            "Classification Report:\n",
            "              precision    recall  f1-score   support\n",
            "\n",
            "           0       0.98      1.00      0.99       966\n",
            "           1       1.00      0.84      0.91       149\n",
            "\n",
            "    accuracy                           0.98      1115\n",
            "   macro avg       0.99      0.92      0.95      1115\n",
            "weighted avg       0.98      0.98      0.98      1115\n",
            "\n"
          ]
        },
        {
          "output_type": "display_data",
          "data": {
            "text/plain": [
              "<Figure size 700x500 with 2 Axes>"
            ],
            "image/png": "[encoded data removed]"
          },
          "metadata": {}
        },
        {
          "output_type": "stream",
          "name": "stdout",
          "text": [
            "Message: 'Free money! Claim your reward now' => Predicted: Spam\n",
            "Message: 'Hey, how are you?' => Predicted: Ham\n"
          ]
        }
      ],
      "source": [
        "\n",
        "# Step 1: Import Required Libraries\n",
        "import pandas as pd\n",
        "import io\n",
        "!pip install requests\n",
        "import requests\n",
        "import zipfile\n",
        "\n",
        "# Step 2: Load the Dataset\n",
        "# You can download the dataset from UCI repository if it's not available\n",
        "url = \"https://archive.ics.uci.edu/ml/machine-learning-databases/00228/smsspamcollection.zip\"\n",
        "\n",
        "response = requests.get (url)\n",
        "response.raise_for_status()\n",
        "\n",
        "with zipfile.ZipFile(io.BytesIO(response.content)) as zip_file:\n",
        "  with zip_file.open('SMSSpamCollection') as file:\n",
        "    dataset = pd.read_csv(file,sep='\\t',header=None, names=[\"label\",\"message\"])\n",
        "\n",
        "\n",
        "# Step 3: Preprocessing the Data\n",
        "# Convert labels to binary: spam = 1, ham = 0\n",
        "dataset['label'] = dataset['label'].map({'ham': 0, 'spam': 1})\n",
        "\n",
        "# Split the dataset into features (X) and target labels (y)\n",
        "X = dataset['message']\n",
        "y = dataset['label']\n",
        "\n",
        "# Step 4: Split the dataset into training and testing sets (80% training, 20% testing)\n",
        "X_train, X_test, y_train, y_test = train_test_split(X, y, test_size=0.2, random_state=42)\n",
        "\n",
        "# Step 5: Initialize TF-IDF Vectorizer\n",
        "vectorizer = TfidfVectorizer(stop_words='english')\n",
        "\n",
        "# Fit and transform the training data\n",
        "X_train_tfidf = vectorizer.fit_transform(X_train)\n",
        "\n",
        "# Transform the test data\n",
        "X_test_tfidf = vectorizer.transform(X_test)\n",
        "\n",
        "# Step 6: Train the Naive Bayes model\n",
        "model = MultinomialNB()\n",
        "\n",
        "# Train the model on the training data\n",
        "model.fit(X_train_tfidf, y_train)\n",
        "\n",
        "# Step 7: Make Predictions on the Test Data\n",
        "y_pred = model.predict(X_test_tfidf)\n",
        "\n",
        "# Step 8: Evaluate the Model\n",
        "accuracy = accuracy_score(y_test, y_pred)\n",
        "print(f'Accuracy: {accuracy * 100:.2f}%')\n",
        "\n",
        "# Step 9: Display Classification Report\n",
        "print(\"\\nClassification Report:\")\n",
        "print(classification_report(y_test, y_pred))\n",
        "\n",
        "# Step 10: Display Confusion Matrix\n",
        "conf_matrix = confusion_matrix(y_test, y_pred)\n",
        "\n",
        "# Plot confusion matrix\n",
        "plt.figure(figsize=(7, 5))\n",
        "sns.heatmap(conf_matrix, annot=True, fmt='d', cmap='Blues', xticklabels=['ham', 'spam'], yticklabels=['ham', 'spam'])\n",
        "plt.xlabel('Predicted')\n",
        "plt.ylabel('True')\n",
        "plt.title('Confusion Matrix')\n",
        "plt.show()\n",
        "\n",
        "# Step 11: Test with New Messages\n",
        "new_messages = [\"Free money! Claim your reward now\", \"Hey, how are you?\"]\n",
        "\n",
        "# Convert new messages into TF-IDF format\n",
        "new_messages_tfidf = vectorizer.transform(new_messages)\n",
        "\n",
        "# Predict whether the new messages are spam or ham\n",
        "new_predictions = model.predict(new_messages_tfidf)\n",
        "\n",
        "for message, pred in zip(new_messages, new_predictions):\n",
        "    print(f\"Message: '{message}' => Predicted: {'Spam' if pred == 1 else 'Ham'}\")\n",
        "\n"
      ]
    },
    {
      "cell_type": "code",
      "source": [],
      "metadata": {
        "id": "Pq1L8gjEVU0S"
      },
      "execution_count": null,
      "outputs": []
    },
    {
      "cell_type": "markdown",
      "source": [],
      "metadata": {
        "id": "2yiswRnsVoOe"
      }
    },
    {
      "cell_type": "code",
      "source": [],
      "metadata": {
        "id": "QZMfxev5VpBL"
      },
      "execution_count": null,
      "outputs": []
    }
  ]
}